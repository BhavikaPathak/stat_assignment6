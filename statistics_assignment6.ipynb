{
 "cells": [
  {
   "cell_type": "markdown",
   "id": "9d8a187e-cc15-4e5d-95ec-0d9a9f0964cf",
   "metadata": {},
   "source": [
    "# ANSWER 1\n",
    "## t-test:\n",
    "The t-test is used when the sample size is small (typically n < 30) or when the population standard deviation is unknown.\n",
    "It uses the t-distribution, which has fatter tails than the standard normal (Z) distribution, making it more appropriate for smaller sample sizes.\n",
    "\n",
    "The t-test is commonly used for testing hypotheses about a single sample mean or the difference between two sample means.\n",
    "\n",
    "Example scenario: Testing whether there is a significant difference between the average test scores of two different groups of students, where the sample sizes are small.\n",
    "## z-test:\n",
    "The z-test is used when the sample size is large (typically n ≥ 30) and when the population standard deviation is known or when the sample size is large enough to approximate the population standard deviation.\n",
    "\n",
    "It uses the standard normal (Z) distribution, which has a mean of 0 and a standard deviation of 1.\n",
    "\n",
    "The z-test is commonly used for testing hypotheses about a single sample mean or the difference between two sample means when the sample size is large.\n",
    "\n",
    "Example scenario: Testing whether the average height of a population is significantly different from a known value, where the sample size is large."
   ]
  },
  {
   "cell_type": "markdown",
   "id": "a8a470d7-cce1-4f30-9919-c2d049bcc6d4",
   "metadata": {},
   "source": [
    "# ANSWER 2 \n",
    "## One-tailed test:\n",
    "In a one-tailed (or one-sided) test, the hypothesis test is conducted in only one direction (either greater than or less than).\n",
    "\n",
    "It is used when the research question is specifically focused on whether the sample mean is greater than or less than a certain value.\n",
    "\n",
    "The critical region for the test is located in one tail of the distribution.\n",
    "\n",
    "Example scenario: Testing whether a new drug improves test scores, where the research hypothesis is that the drug increases scores (one-tailed in the positive direction).\n",
    "## Two-tailed test:\n",
    "In a two-tailed (or two-sided) test, the hypothesis test is conducted in both directions (greater than and less than).\n",
    "\n",
    "It is used when the research question is concerned with whether the sample mean is different from a certain value in either direction.\n",
    "\n",
    "The critical region for the test is divided between both tails of the distribution.\n",
    "\n",
    "Example scenario: Testing whether a new teaching method has an effect on test scores, where the research hypothesis is that the method changes scores (two-tailed)."
   ]
  },
  {
   "cell_type": "markdown",
   "id": "7f8f54c0-9427-465f-8c53-5ad3e5172e9e",
   "metadata": {},
   "source": [
    "# ANSWER 3\n",
    "## Type 1 error (False Positive):\n",
    "A Type 1 error occurs when the null hypothesis (H0) is rejected when it is actually true.\n",
    "\n",
    "It represents a false positive result, where we mistakenly conclude that there is a significant effect when there is none.\n",
    "\n",
    "The probability of making a Type 1 error is denoted by the significance level (α) and is set before conducting the test.\n",
    "\n",
    "Example scenario: In a criminal trial, an innocent person is found guilty (rejecting the null hypothesis of innocence) based on insufficient evidence.\n",
    "## Type 2 error (False Negative):\n",
    "A Type 2 error occurs when the null hypothesis (H0) is not rejected when it is actually false.\n",
    "\n",
    "It represents a false negative result, where we fail to detect a significant effect when it exists.\n",
    "\n",
    "The probability of making a Type 2 error is denoted by β (beta) and is dependent on the sample size, the effect size, and the significance level (α).\n",
    "\n",
    "Example scenario: In a medical test, a person with a disease is wrongly diagnosed as not having the disease (failing to reject the null hypothesis of no disease) due to an inaccurate test."
   ]
  },
  {
   "cell_type": "markdown",
   "id": "56644566-31b9-4976-9103-9a23302b47e6",
   "metadata": {},
   "source": [
    "# ANSWER 4\n",
    "Bayes's Theorem is a fundamental concept in probability theory used to update the probability of a hypothesis based on new evidence. It is expressed as: P(A|B) = P(B|A) * P(A) / P(B)\n",
    "\n",
    "Where:P(A|B) is the conditional probability of event A given event B has occurred.\n",
    "\n",
    "P(B|A) is the conditional probability of event B given event A has occurred.\n",
    "\n",
    "P(A) and P(B) are the probabilities of events A and B, respectively.\n",
    "## Example scenario: A medical test to detect a rare disease has the following characteristics:\n",
    "The probability of having the disease (A) is 1 in 1000 (P(A) = 0.001).\n",
    "\n",
    "The probability of the test correctly detecting the disease (true positive rate) is 99% (P(B|A) = 0.99).\n",
    "\n",
    "The probability of the test correctly ruling out the disease (true negative rate) is 98% (P(not B|not A) = 0.98).\n",
    "\n",
    "Suppose a person tests positive for the disease (B). We want to find the probability that the person actually has the disease (P(A|B)).\n",
    "\n",
    "Using Bayes's Theorem:\n",
    "P(A|B) = P(B|A) * P(A) / P(B)\n",
    "\n",
    "P(A|B) = 0.99 * 0.001 / (P(B|A) * P(A) + P(B|not A) * P(not A))\n",
    "\n",
    "P(A|B) = 0.99 * 0.001 / (0.99 * 0.001 + 0.02 * 0.999)\n",
    "\n",
    "P(A|B) ≈ 0.0495\n",
    "\n",
    "Therefore, the probability that the person actually has the disease (given they tested positive) is approximately 0.0495 or 4.95%."
   ]
  },
  {
   "cell_type": "markdown",
   "id": "ac6b81fc-f4ab-4dd3-8da3-4135d4ea3949",
   "metadata": {},
   "source": [
    "# ANSWER 5\n",
    "A confidence interval is a range of values that is likely to contain the true population parameter (e.g., mean or proportion) with a specified level of confidence.\n",
    "\n",
    "Example scenario: Suppose we want to estimate the average height of students in a college. We take a random sample of 100 students and find their heights. The sample mean height (x̄) is 170 cm, and the sample standard deviation (s) is 5 cm."
   ]
  },
  {
   "cell_type": "code",
   "execution_count": 16,
   "id": "271fc01f-f1cd-486c-a815-e612bcf63997",
   "metadata": {},
   "outputs": [
    {
     "name": "stdout",
     "output_type": "stream",
     "text": [
      "The 95% confidence interval for the population mean height is: 169.02001800772996 cm , 170.97998199227004 cm\n"
     ]
    }
   ],
   "source": [
    "import scipy.stats as stats\n",
    "\n",
    "sample_mean = 170\n",
    "sample_std_dev = 5\n",
    "sample_size = 100\n",
    "confidence_level = 0.95\n",
    "\n",
    "# the critical value from the standard normal (Z) distribution\n",
    "critical_value = stats.norm.ppf((1 + confidence_level) / 2)\n",
    "\n",
    "# the margin of error\n",
    "margin_of_error = critical_value * (sample_std_dev / (sample_size ** 0.5))\n",
    "\n",
    "# Calculate the 95% confidence interval\n",
    "lower_bound = sample_mean - margin_of_error\n",
    "upper_bound = sample_mean + margin_of_error\n",
    "\n",
    "print(\"The 95% confidence interval for the population mean height is:\",lower_bound,\"cm\",\",\",upper_bound ,\"cm\")"
   ]
  },
  {
   "cell_type": "markdown",
   "id": "8734f25a-ecb8-4b67-8cad-18297505b561",
   "metadata": {},
   "source": [
    "# ANSWER 6\n",
    "Bayes' Theorem allows us to update the probability of an event based on new evidence. The formula is as follows:\n",
    "\n",
    "P(A|B) = P(B|A) * P(A) / P(B)\n",
    "\n",
    "Where:\n",
    "\n",
    "P(A|B) is the conditional probability of event A given event B has occurred.\n",
    "\n",
    "P(B|A) is the conditional probability of event B given event A has occurred.\n",
    "\n",
    "P(A) and P(B) are the probabilities of events A and B, respectively.\n",
    "## Sample problem:\n",
    "Suppose a factory produces two types of products: Product A and Product B. Historically, 10% of the products are of type A (P(A) = 0.10), and 5% of the products are of type B (P(B) = 0.05). An inspector has a 90% chance of correctly identifying a product as type A if it is, in fact, of type A (P(A|B) = 0.90), and a 80% chance of correctly identifying a product as type B if it is of type B (P(B|A) = 0.80). The inspector selects a product at random and identifies it as type A. What is the probability that the product is actually of type A (P(A|B))?\n",
    "\n",
    "Solution:\n",
    "Using Bayes' Theorem:\n",
    "\n",
    "P(A|B) = P(B|A) * P(A) / P(B)\n",
    "\n",
    "P(A|B) = 0.90 * 0.10 / (P(B|A) * P(A) + P(B|not A) * P(not A))\n",
    "\n",
    "P(A|B) = 0.90 * 0.10 / (0.80 * 0.10 + 0.95 * 0.90)\n",
    "\n",
    "P(A|B) ≈ 0.105\n",
    "\n",
    "The probability that the product is actually of type A (given it was identified as type A by the inspector) is approximately 0.105 or 10.5%."
   ]
  },
  {
   "cell_type": "markdown",
   "id": "275fa660-f9af-4e4e-aef4-a1eb3ee16fe4",
   "metadata": {},
   "source": [
    "# ANSWER 7\n",
    "Since the sample size (n) is not provided,cannot calculate the exact confidence interval. However,the 95% confidence interval for the population mean lies within ± (1.96 * 5) = ± 9.8 units from the sample mean of 50. So, the range would be approximately (40.2, 59.8). This means that we are 95% confident that the true population mean is within this range."
   ]
  },
  {
   "cell_type": "markdown",
   "id": "ccbfc48b-1d4d-432e-a4c7-f951bf70c0c5",
   "metadata": {},
   "source": [
    "# ANSWER 8 \n",
    "The margin of error in a confidence interval is a measure of the uncertainty or variability associated with estimating a population parameter (e.g., mean or proportion) based on a sample. It represents the range around the sample estimate within which we expect the true population parameter to lie with a certain level of confidence.\n",
    "\n",
    "The formula for the margin of error is given by:\n",
    "\n",
    "Margin of Error = Critical Value * (sample_std_dev / √sample_size)\n",
    "\n",
    "Where:\n",
    "\n",
    "Critical Value: It depends on the desired confidence level and the chosen statistical distribution (e.g., Z-distribution for large sample sizes or t-distribution for small sample sizes).\n",
    "\n",
    "sample_std_dev: The standard deviation of the sample.\n",
    "\n",
    "√sample_size: The square root of the sample size.\n",
    "\n",
    "## sample size affects the margin of error:\n",
    "1. As the sample size increases, the margin of error decreases. In other words, a larger sample size leads to a smaller margin of error.\n",
    "2. As the sample size increases, the sample estimate becomes more precise and closer to the true population parameter.\n",
    "## Example scenario:\n",
    "Let's consider a survey aimed at estimating the average income of employees in a company. We conduct two separate surveys:\n",
    "\n",
    "Survey 1: Sample size (n) = 100, Sample mean income (x̄) = $60,000, Sample standard deviation (s) = $8,000.\n",
    "\n",
    "Survey 2: Sample size (n) = 400, Sample mean income (x̄) = $60,000, Sample standard deviation (s) = $8,000.\n",
    "\n",
    "Using a 95% confidence level (Z-critical value ≈ 1.96 for large sample sizes):\n",
    "\n",
    "For Survey 1:\n",
    "Margin of Error = 1.96 * ($8,000 / √100) ≈ $1,568\n",
    "\n",
    "For Survey 2:\n",
    "Margin of Error = 1.96 * ($8,000 / √400) ≈ $784\n",
    "\n",
    "In this example, the larger sample size in Survey 2 results in a smaller margin of error compared to Survey 1. As the sample size increases, the margin of error decreases, providing a more precise estimate of the population mean income. This demonstrates the importance of larger sample sizes when conducting surveys or experiments to obtain more reliable and accurate results."
   ]
  },
  {
   "cell_type": "markdown",
   "id": "dbe38a3b-2978-4ea2-a73d-976fffeef571",
   "metadata": {},
   "source": [
    "# ANSWER 9\n",
    "z = (x - μ) / σ\n",
    "Where:\n",
    "\n",
    "z is the z-score.\n",
    "\n",
    "x = 75 \n",
    "\n",
    "μ = 70 \n",
    "\n",
    "σ = 5 \n",
    "\n",
    "z = (75 - 70) / 5\n",
    "\n",
    "z = 1\n",
    "\n",
    "Interpretation of the results:\n",
    "\n",
    "The calculated z-score is 1. This means that the data point with a value of 75 is one standard deviation above the population mean of 70.\n",
    "\n",
    "Z-scores are a way to standardize data points and express their distance from the mean in terms of standard deviations. A positive z-score indicates that the data point is above the mean, while a negative z-score indicates that it is below the mean. The magnitude of the z-score tells us how far the data point is from the mean in standard deviation units.A z-score of 1 means that the data point is 1 standard deviation above the mean."
   ]
  },
  {
   "cell_type": "markdown",
   "id": "3e8873c9-ed85-4444-9889-f952cfb0ddd5",
   "metadata": {},
   "source": [
    "# ANSWER 10"
   ]
  },
  {
   "cell_type": "code",
   "execution_count": 17,
   "id": "17c24dda-dfdd-4117-bb33-064fb94a7455",
   "metadata": {},
   "outputs": [
    {
     "name": "stdout",
     "output_type": "stream",
     "text": [
      "Reject the null hypothesis:The weight loss drug is significantly effective.\n"
     ]
    }
   ],
   "source": [
    "import scipy.stats as stats\n",
    "\n",
    "sample_mean = 6\n",
    "sample_std_dev = 2.5\n",
    "sample_size = 50\n",
    "hypothesized_mean = 0\n",
    "confidence_level = 0.95\n",
    "# the t-statistic\n",
    "t_statistic = (sample_mean - hypothesized_mean) / (sample_std_dev / (sample_size ** 0.5))\n",
    "\n",
    "# the critical value from the t-distribution\n",
    "critical_value = stats.t.ppf(1 - (1 - confidence_level) / 2, df=sample_size - 1)\n",
    "\n",
    "# Perform the hypothesis test\n",
    "if (t_statistic) > critical_value:\n",
    "    print(\"Reject the null hypothesis:The weight loss drug is significantly effective.\")\n",
    "else:\n",
    "    print(\"Fail to reject the null hypothesis:There is no significant evidence that the drug is effective.\")"
   ]
  },
  {
   "cell_type": "markdown",
   "id": "6a798ecc-87f0-4c13-ac31-7f155e81814d",
   "metadata": {},
   "source": [
    "# ANSWER 11"
   ]
  },
  {
   "cell_type": "code",
   "execution_count": 18,
   "id": "5bd71ebf-2832-4c3a-9704-998343d2ba74",
   "metadata": {},
   "outputs": [
    {
     "name": "stdout",
     "output_type": "stream",
     "text": [
      "95% Confidence Interval: (0.6081925393809212, 0.6918074606190788)\n"
     ]
    }
   ],
   "source": [
    "sample_proportion = 0.65\n",
    "sample_size = 500\n",
    "confidence_level = 0.95\n",
    "\n",
    "# the critical value from the standard normal (Z) distribution\n",
    "critical_value = stats.norm.ppf(1 - (1 - confidence_level) / 2)\n",
    "\n",
    "# the margin of error\n",
    "margin_of_error = critical_value * ( (sample_proportion * (1 - sample_proportion)) / sample_size ) ** 0.5\n",
    "\n",
    "# the confidence interval\n",
    "confidence_interval = (sample_proportion - margin_of_error, sample_proportion + margin_of_error)\n",
    "\n",
    "print(\"95% Confidence Interval:\", confidence_interval)\n"
   ]
  },
  {
   "cell_type": "markdown",
   "id": "575bdae6-36cc-4900-98f1-a17c2e785d97",
   "metadata": {},
   "source": [
    "# ANSWER 12"
   ]
  },
  {
   "cell_type": "code",
   "execution_count": 19,
   "id": "4cc82199-947c-4dfa-8b11-38e7d7c9d28a",
   "metadata": {},
   "outputs": [
    {
     "name": "stdout",
     "output_type": "stream",
     "text": [
      "Fail to reject the null hypothesis:There is no significant evidence of a difference in student performance between the two teaching methods.\n"
     ]
    }
   ],
   "source": [
    "sample_mean_A = 85\n",
    "sample_std_dev_A = 6\n",
    "sample_size_A = 30\n",
    "\n",
    "sample_mean_B = 82\n",
    "sample_std_dev_B = 5\n",
    "sample_size_B = 25\n",
    "\n",
    "significance_level = 0.01\n",
    "\n",
    "# Calculate the degrees of freedom\n",
    "degrees_of_freedom = sample_size_A + sample_size_B - 2\n",
    "\n",
    "# the standard deviation\n",
    "std_dev = ((sample_std_dev_A ** 2) * (sample_size_A - 1) + (sample_std_dev_B ** 2) * (sample_size_B - 1)) / degrees_of_freedom\n",
    "std_dev = std_dev ** 0.5\n",
    "\n",
    "# the t-statistic\n",
    "t_statistic = (sample_mean_A - sample_mean_B) / (std_dev * ((1 / sample_size_A) + (1 / sample_size_B)) ** 0.5)\n",
    "\n",
    "# the critical value from the t-distribution\n",
    "critical_value = stats.t.ppf(1 - (significance_level / 2), df=degrees_of_freedom)\n",
    "\n",
    "# Perform the hypothesis test\n",
    "if t_statistic > critical_value:\n",
    "    print(\"Reject the null hypothesis:There is a significant difference in student performance between the two teaching methods.\")\n",
    "else:\n",
    "    print(\"Fail to reject the null hypothesis:There is no significant evidence of a difference in student performance between the two teaching methods.\")"
   ]
  },
  {
   "cell_type": "markdown",
   "id": "8fe0e4a0-4314-4592-b9f4-3e27d9156ab4",
   "metadata": {},
   "source": [
    "# ANSWER 13"
   ]
  },
  {
   "cell_type": "code",
   "execution_count": 20,
   "id": "b7747781-7fe5-487c-86f4-c3261e595aca",
   "metadata": {},
   "outputs": [
    {
     "name": "stdout",
     "output_type": "stream",
     "text": [
      "90% Confidence Interval: (63.13906055411732, 66.86093944588268)\n"
     ]
    }
   ],
   "source": [
    "population_mean = 60\n",
    "population_std_dev = 8\n",
    "sample_mean = 65\n",
    "sample_size = 50\n",
    "confidence_level = 0.90\n",
    "\n",
    "# the critical value from the standard normal (Z) distribution\n",
    "critical_value = stats.norm.ppf(1 - (1 - confidence_level) / 2)\n",
    "\n",
    "# the margin of error\n",
    "margin_of_error = critical_value * (population_std_dev / (sample_size ** 0.5))\n",
    "\n",
    "# the confidence interval\n",
    "confidence_interval = (sample_mean - margin_of_error, sample_mean + margin_of_error)\n",
    "\n",
    "print(\"90% Confidence Interval:\", confidence_interval)\n"
   ]
  },
  {
   "cell_type": "markdown",
   "id": "7a55ae97-a4b2-49df-982b-96a0ef9445e6",
   "metadata": {},
   "source": [
    "# ANSWER 14"
   ]
  },
  {
   "cell_type": "code",
   "execution_count": 21,
   "id": "bc11417d-353d-4f3a-8210-c6d9be333c0f",
   "metadata": {},
   "outputs": [
    {
     "name": "stdout",
     "output_type": "stream",
     "text": [
      "Reject the null hypothesis:Caffeine has a significant effect on reaction time.\n"
     ]
    }
   ],
   "source": [
    "sample_mean = 0.25\n",
    "sample_std_dev = 0.05\n",
    "sample_size = 30\n",
    "hypothesized_mean = 0\n",
    "confidence_level = 0.90\n",
    "\n",
    "# the t-statistic\n",
    "t_statistic = (sample_mean - hypothesized_mean) / (sample_std_dev / (sample_size ** 0.5))\n",
    "\n",
    "# the degrees of freedom\n",
    "degrees_of_freedom = sample_size - 1\n",
    "\n",
    "# the critical value from the t-distribution\n",
    "critical_value = stats.t.ppf(1 - (1 - confidence_level) / 2, df=degrees_of_freedom)\n",
    "\n",
    "# Perform the hypothesis test\n",
    "if t_statistic > critical_value:\n",
    "    print(\"Reject the null hypothesis:Caffeine has a significant effect on reaction time.\")\n",
    "else:\n",
    "    print(\"Fail to reject the null hypothesis:There is no significant evidence that caffeine has an effect on reaction time.\")\n"
   ]
  },
  {
   "cell_type": "code",
   "execution_count": null,
   "id": "1c323103-b550-42c4-b253-a216a1b43076",
   "metadata": {},
   "outputs": [],
   "source": []
  },
  {
   "cell_type": "code",
   "execution_count": null,
   "id": "1f9383f9-ce79-4cb6-8a66-a3777ba5d4dc",
   "metadata": {},
   "outputs": [],
   "source": []
  },
  {
   "cell_type": "code",
   "execution_count": null,
   "id": "fa4f9353-4e5e-4629-bf31-069526533789",
   "metadata": {},
   "outputs": [],
   "source": [
    "\n"
   ]
  }
 ],
 "metadata": {
  "kernelspec": {
   "display_name": "Python 3 (ipykernel)",
   "language": "python",
   "name": "python3"
  },
  "language_info": {
   "codemirror_mode": {
    "name": "ipython",
    "version": 3
   },
   "file_extension": ".py",
   "mimetype": "text/x-python",
   "name": "python",
   "nbconvert_exporter": "python",
   "pygments_lexer": "ipython3",
   "version": "3.10.8"
  }
 },
 "nbformat": 4,
 "nbformat_minor": 5
}
